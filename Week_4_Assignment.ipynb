{
  "nbformat": 4,
  "nbformat_minor": 0,
  "metadata": {
    "colab": {
      "name": "TedTalks.ipynb",
      "provenance": [],
      "collapsed_sections": [],
      "toc_visible": true
    },
    "kernelspec": {
      "name": "python3",
      "display_name": "Python 3"
    }
  },
  "cells": [
    {
      "cell_type": "markdown",
      "metadata": {
        "id": "biT7Mlb9o8eg"
      },
      "source": [
        "# O'VN Team - TED Talks\n",
        "\n",
        "![](https://psmarketingimages.s3.amazonaws.com/blog/wp-content/uploads/2017/04/23103819/TED-Talks-for-Small-Business-and-Entrepreneurs.jpg)\n",
        "\n",
        "_For more information about the dataset, read [here](https://www.kaggle.com/rounakbanik/ted-talks)._\n",
        "\n",
        "## Overview\n",
        "1. Data\n",
        "2. Clean\n",
        "3. Analysis\n",
        "4. Deeply\n",
        "5. Visualize on GDS\n"
      ]
    },
    {
      "cell_type": "markdown",
      "metadata": {
        "id": "A6XFt5m_qZ97"
      },
      "source": [
        "# 1. Data"
      ]
    },
    {
      "cell_type": "markdown",
      "metadata": {
        "id": "OQj81mok0wLw"
      },
      "source": [
        "- Import Libraries"
      ]
    },
    {
      "cell_type": "code",
      "metadata": {
        "id": "Pck3wClbqiLm"
      },
      "source": [
        "import pandas as pd\n",
        "import numpy as np\n",
        "import matplotlib.pyplot as plt\n",
        "import seaborn as sns"
      ],
      "execution_count": 3,
      "outputs": []
    },
    {
      "cell_type": "markdown",
      "metadata": {
        "id": "ujBtDxBRrrzx"
      },
      "source": [
        "### What ?"
      ]
    },
    {
      "cell_type": "markdown",
      "metadata": {
        "id": "99E1WvhOsAMA"
      },
      "source": [
        "- **Some values**"
      ]
    },
    {
      "cell_type": "code",
      "metadata": {
        "id": "-CGN_bPpqznn",
        "outputId": "45a7d31c-ca98-4b18-d35c-23d311ad9b61",
        "colab": {
          "base_uri": "https://localhost:8080/",
          "height": 374
        }
      },
      "source": [
        "ted = pd.read_csv('ted.csv')\n",
        "ted.head(3)"
      ],
      "execution_count": 4,
      "outputs": [
        {
          "output_type": "execute_result",
          "data": {
            "text/html": [
              "<div>\n",
              "<style scoped>\n",
              "    .dataframe tbody tr th:only-of-type {\n",
              "        vertical-align: middle;\n",
              "    }\n",
              "\n",
              "    .dataframe tbody tr th {\n",
              "        vertical-align: top;\n",
              "    }\n",
              "\n",
              "    .dataframe thead th {\n",
              "        text-align: right;\n",
              "    }\n",
              "</style>\n",
              "<table border=\"1\" class=\"dataframe\">\n",
              "  <thead>\n",
              "    <tr style=\"text-align: right;\">\n",
              "      <th></th>\n",
              "      <th>comments</th>\n",
              "      <th>description</th>\n",
              "      <th>duration</th>\n",
              "      <th>event</th>\n",
              "      <th>film_date</th>\n",
              "      <th>languages</th>\n",
              "      <th>main_speaker</th>\n",
              "      <th>name</th>\n",
              "      <th>num_speaker</th>\n",
              "      <th>published_date</th>\n",
              "      <th>ratings</th>\n",
              "      <th>related_talks</th>\n",
              "      <th>speaker_occupation</th>\n",
              "      <th>tags</th>\n",
              "      <th>title</th>\n",
              "      <th>url</th>\n",
              "      <th>views</th>\n",
              "    </tr>\n",
              "  </thead>\n",
              "  <tbody>\n",
              "    <tr>\n",
              "      <th>0</th>\n",
              "      <td>4553</td>\n",
              "      <td>Sir Ken Robinson makes an entertaining and pro...</td>\n",
              "      <td>1164</td>\n",
              "      <td>TED2006</td>\n",
              "      <td>1140825600</td>\n",
              "      <td>60</td>\n",
              "      <td>Ken Robinson</td>\n",
              "      <td>Ken Robinson: Do schools kill creativity?</td>\n",
              "      <td>1</td>\n",
              "      <td>1151367060</td>\n",
              "      <td>[{'id': 7, 'name': 'Funny', 'count': 19645}, {...</td>\n",
              "      <td>[{'id': 865, 'hero': 'https://pe.tedcdn.com/im...</td>\n",
              "      <td>Author/educator</td>\n",
              "      <td>['children', 'creativity', 'culture', 'dance',...</td>\n",
              "      <td>Do schools kill creativity?</td>\n",
              "      <td>https://www.ted.com/talks/ken_robinson_says_sc...</td>\n",
              "      <td>47227110</td>\n",
              "    </tr>\n",
              "    <tr>\n",
              "      <th>1</th>\n",
              "      <td>265</td>\n",
              "      <td>With the same humor and humanity he exuded in ...</td>\n",
              "      <td>977</td>\n",
              "      <td>TED2006</td>\n",
              "      <td>1140825600</td>\n",
              "      <td>43</td>\n",
              "      <td>Al Gore</td>\n",
              "      <td>Al Gore: Averting the climate crisis</td>\n",
              "      <td>1</td>\n",
              "      <td>1151367060</td>\n",
              "      <td>[{'id': 7, 'name': 'Funny', 'count': 544}, {'i...</td>\n",
              "      <td>[{'id': 243, 'hero': 'https://pe.tedcdn.com/im...</td>\n",
              "      <td>Climate advocate</td>\n",
              "      <td>['alternative energy', 'cars', 'climate change...</td>\n",
              "      <td>Averting the climate crisis</td>\n",
              "      <td>https://www.ted.com/talks/al_gore_on_averting_...</td>\n",
              "      <td>3200520</td>\n",
              "    </tr>\n",
              "    <tr>\n",
              "      <th>2</th>\n",
              "      <td>124</td>\n",
              "      <td>New York Times columnist David Pogue takes aim...</td>\n",
              "      <td>1286</td>\n",
              "      <td>TED2006</td>\n",
              "      <td>1140739200</td>\n",
              "      <td>26</td>\n",
              "      <td>David Pogue</td>\n",
              "      <td>David Pogue: Simplicity sells</td>\n",
              "      <td>1</td>\n",
              "      <td>1151367060</td>\n",
              "      <td>[{'id': 7, 'name': 'Funny', 'count': 964}, {'i...</td>\n",
              "      <td>[{'id': 1725, 'hero': 'https://pe.tedcdn.com/i...</td>\n",
              "      <td>Technology columnist</td>\n",
              "      <td>['computers', 'entertainment', 'interface desi...</td>\n",
              "      <td>Simplicity sells</td>\n",
              "      <td>https://www.ted.com/talks/david_pogue_says_sim...</td>\n",
              "      <td>1636292</td>\n",
              "    </tr>\n",
              "  </tbody>\n",
              "</table>\n",
              "</div>"
            ],
            "text/plain": [
              "   comments  ...     views\n",
              "0      4553  ...  47227110\n",
              "1       265  ...   3200520\n",
              "2       124  ...   1636292\n",
              "\n",
              "[3 rows x 17 columns]"
            ]
          },
          "metadata": {
            "tags": []
          },
          "execution_count": 4
        }
      ]
    },
    {
      "cell_type": "markdown",
      "metadata": {
        "id": "KsePo1KzsXDn"
      },
      "source": [
        "- **Shape**"
      ]
    },
    {
      "cell_type": "code",
      "metadata": {
        "id": "ke8OOi4MsHXZ",
        "outputId": "8647b0b3-7e00-4f21-9b44-309be538fa6d",
        "colab": {
          "base_uri": "https://localhost:8080/",
          "height": 34
        }
      },
      "source": [
        "ted.shape"
      ],
      "execution_count": 5,
      "outputs": [
        {
          "output_type": "execute_result",
          "data": {
            "text/plain": [
              "(2550, 17)"
            ]
          },
          "metadata": {
            "tags": []
          },
          "execution_count": 5
        }
      ]
    },
    {
      "cell_type": "markdown",
      "metadata": {
        "id": "c_aXYNoeskse"
      },
      "source": [
        "- **Info**"
      ]
    },
    {
      "cell_type": "code",
      "metadata": {
        "id": "DIemhlXXsdeW",
        "outputId": "204d3a42-3fb6-40b3-e803-296178fe7738",
        "colab": {
          "base_uri": "https://localhost:8080/",
          "height": 443
        }
      },
      "source": [
        "ted.info()"
      ],
      "execution_count": 6,
      "outputs": [
        {
          "output_type": "stream",
          "text": [
            "<class 'pandas.core.frame.DataFrame'>\n",
            "RangeIndex: 2550 entries, 0 to 2549\n",
            "Data columns (total 17 columns):\n",
            " #   Column              Non-Null Count  Dtype \n",
            "---  ------              --------------  ----- \n",
            " 0   comments            2550 non-null   int64 \n",
            " 1   description         2550 non-null   object\n",
            " 2   duration            2550 non-null   int64 \n",
            " 3   event               2550 non-null   object\n",
            " 4   film_date           2550 non-null   int64 \n",
            " 5   languages           2550 non-null   int64 \n",
            " 6   main_speaker        2550 non-null   object\n",
            " 7   name                2550 non-null   object\n",
            " 8   num_speaker         2550 non-null   int64 \n",
            " 9   published_date      2550 non-null   int64 \n",
            " 10  ratings             2550 non-null   object\n",
            " 11  related_talks       2550 non-null   object\n",
            " 12  speaker_occupation  2544 non-null   object\n",
            " 13  tags                2550 non-null   object\n",
            " 14  title               2550 non-null   object\n",
            " 15  url                 2550 non-null   object\n",
            " 16  views               2550 non-null   int64 \n",
            "dtypes: int64(7), object(10)\n",
            "memory usage: 338.8+ KB\n"
          ],
          "name": "stdout"
        }
      ]
    },
    {
      "cell_type": "markdown",
      "metadata": {
        "id": "o-p94nfbs3tS"
      },
      "source": [
        "- **Missing values (NaN)**"
      ]
    },
    {
      "cell_type": "code",
      "metadata": {
        "id": "Fd-NB8K4s2pg",
        "outputId": "09fb8981-37b1-454a-d0b3-3630c052f29f",
        "colab": {
          "base_uri": "https://localhost:8080/",
          "height": 336
        }
      },
      "source": [
        "ted.isna().sum()"
      ],
      "execution_count": 7,
      "outputs": [
        {
          "output_type": "execute_result",
          "data": {
            "text/plain": [
              "comments              0\n",
              "description           0\n",
              "duration              0\n",
              "event                 0\n",
              "film_date             0\n",
              "languages             0\n",
              "main_speaker          0\n",
              "name                  0\n",
              "num_speaker           0\n",
              "published_date        0\n",
              "ratings               0\n",
              "related_talks         0\n",
              "speaker_occupation    6\n",
              "tags                  0\n",
              "title                 0\n",
              "url                   0\n",
              "views                 0\n",
              "dtype: int64"
            ]
          },
          "metadata": {
            "tags": []
          },
          "execution_count": 7
        }
      ]
    },
    {
      "cell_type": "code",
      "metadata": {
        "id": "kcNWAx-Ts8QC",
        "outputId": "7c48318b-627e-4e96-8fbf-0459a9704c7a",
        "colab": {
          "base_uri": "https://localhost:8080/",
          "height": 681
        }
      },
      "source": [
        "ted[ted['speaker_occupation'].isna()]"
      ],
      "execution_count": 8,
      "outputs": [
        {
          "output_type": "execute_result",
          "data": {
            "text/html": [
              "<div>\n",
              "<style scoped>\n",
              "    .dataframe tbody tr th:only-of-type {\n",
              "        vertical-align: middle;\n",
              "    }\n",
              "\n",
              "    .dataframe tbody tr th {\n",
              "        vertical-align: top;\n",
              "    }\n",
              "\n",
              "    .dataframe thead th {\n",
              "        text-align: right;\n",
              "    }\n",
              "</style>\n",
              "<table border=\"1\" class=\"dataframe\">\n",
              "  <thead>\n",
              "    <tr style=\"text-align: right;\">\n",
              "      <th></th>\n",
              "      <th>comments</th>\n",
              "      <th>description</th>\n",
              "      <th>duration</th>\n",
              "      <th>event</th>\n",
              "      <th>film_date</th>\n",
              "      <th>languages</th>\n",
              "      <th>main_speaker</th>\n",
              "      <th>name</th>\n",
              "      <th>num_speaker</th>\n",
              "      <th>published_date</th>\n",
              "      <th>ratings</th>\n",
              "      <th>related_talks</th>\n",
              "      <th>speaker_occupation</th>\n",
              "      <th>tags</th>\n",
              "      <th>title</th>\n",
              "      <th>url</th>\n",
              "      <th>views</th>\n",
              "    </tr>\n",
              "  </thead>\n",
              "  <tbody>\n",
              "    <tr>\n",
              "      <th>1113</th>\n",
              "      <td>145</td>\n",
              "      <td>After a crisis, how can we tell if water is sa...</td>\n",
              "      <td>217</td>\n",
              "      <td>TEDGlobal 2011</td>\n",
              "      <td>1310601600</td>\n",
              "      <td>38</td>\n",
              "      <td>Sonaar Luthra</td>\n",
              "      <td>Sonaar Luthra: Meet the Water Canary</td>\n",
              "      <td>1</td>\n",
              "      <td>1326731605</td>\n",
              "      <td>[{'id': 10, 'name': 'Inspiring', 'count': 73},...</td>\n",
              "      <td>[{'id': 523, 'hero': 'https://pe.tedcdn.com/im...</td>\n",
              "      <td>NaN</td>\n",
              "      <td>['TED Fellows', 'design', 'global development'...</td>\n",
              "      <td>Meet the Water Canary</td>\n",
              "      <td>https://www.ted.com/talks/sonaar_luthra_meet_t...</td>\n",
              "      <td>353749</td>\n",
              "    </tr>\n",
              "    <tr>\n",
              "      <th>1192</th>\n",
              "      <td>122</td>\n",
              "      <td>The Pirate Party fights for transparency, anon...</td>\n",
              "      <td>1097</td>\n",
              "      <td>TEDxObserver</td>\n",
              "      <td>1331424000</td>\n",
              "      <td>10</td>\n",
              "      <td>Rick Falkvinge</td>\n",
              "      <td>Rick Falkvinge: I am a pirate</td>\n",
              "      <td>1</td>\n",
              "      <td>1333289675</td>\n",
              "      <td>[{'id': 8, 'name': 'Informative', 'count': 156...</td>\n",
              "      <td>[{'id': 1329, 'hero': 'https://pe.tedcdn.com/i...</td>\n",
              "      <td>NaN</td>\n",
              "      <td>['Internet', 'TEDx', 'global issues', 'politic...</td>\n",
              "      <td>I am a pirate</td>\n",
              "      <td>https://www.ted.com/talks/rick_falkvinge_i_am_...</td>\n",
              "      <td>181010</td>\n",
              "    </tr>\n",
              "    <tr>\n",
              "      <th>1220</th>\n",
              "      <td>257</td>\n",
              "      <td>As you surf the Web, information is being coll...</td>\n",
              "      <td>399</td>\n",
              "      <td>TED2012</td>\n",
              "      <td>1330473600</td>\n",
              "      <td>32</td>\n",
              "      <td>Gary Kovacs</td>\n",
              "      <td>Gary Kovacs: Tracking our online trackers</td>\n",
              "      <td>1</td>\n",
              "      <td>1336057219</td>\n",
              "      <td>[{'id': 23, 'name': 'Jaw-dropping', 'count': 9...</td>\n",
              "      <td>[{'id': 1370, 'hero': 'https://pe.tedcdn.com/i...</td>\n",
              "      <td>NaN</td>\n",
              "      <td>['Internet', 'advertising', 'business', 'priva...</td>\n",
              "      <td>Tracking our online trackers</td>\n",
              "      <td>https://www.ted.com/talks/gary_kovacs_tracking...</td>\n",
              "      <td>2098639</td>\n",
              "    </tr>\n",
              "    <tr>\n",
              "      <th>1656</th>\n",
              "      <td>140</td>\n",
              "      <td>In this lovely talk, TED Fellow Ryan Holladay ...</td>\n",
              "      <td>389</td>\n",
              "      <td>TED@BCG San Francisco</td>\n",
              "      <td>1383091200</td>\n",
              "      <td>33</td>\n",
              "      <td>Ryan Holladay</td>\n",
              "      <td>Ryan Holladay: To hear this music you have to ...</td>\n",
              "      <td>1</td>\n",
              "      <td>1389369735</td>\n",
              "      <td>[{'id': 1, 'name': 'Beautiful', 'count': 211},...</td>\n",
              "      <td>[{'id': 1152, 'hero': 'https://pe.tedcdn.com/i...</td>\n",
              "      <td>NaN</td>\n",
              "      <td>['TED Fellows', 'entertainment', 'music', 'tec...</td>\n",
              "      <td>To hear this music you have to be there. Liter...</td>\n",
              "      <td>https://www.ted.com/talks/ryan_holladay_to_hea...</td>\n",
              "      <td>1284510</td>\n",
              "    </tr>\n",
              "    <tr>\n",
              "      <th>1911</th>\n",
              "      <td>48</td>\n",
              "      <td>What do you do with an outdated encyclopedia i...</td>\n",
              "      <td>366</td>\n",
              "      <td>TEDYouth 2014</td>\n",
              "      <td>1415059200</td>\n",
              "      <td>34</td>\n",
              "      <td>Brian Dettmer</td>\n",
              "      <td>Brian Dettmer: Old books reborn as art</td>\n",
              "      <td>1</td>\n",
              "      <td>1423238442</td>\n",
              "      <td>[{'id': 1, 'name': 'Beautiful', 'count': 361},...</td>\n",
              "      <td>[{'id': 610, 'hero': 'https://pe.tedcdn.com/im...</td>\n",
              "      <td>NaN</td>\n",
              "      <td>['TEDYouth', 'art', 'books', 'creativity']</td>\n",
              "      <td>Old books reborn as art</td>\n",
              "      <td>https://www.ted.com/talks/brian_dettmer_old_bo...</td>\n",
              "      <td>1159937</td>\n",
              "    </tr>\n",
              "    <tr>\n",
              "      <th>1949</th>\n",
              "      <td>70</td>\n",
              "      <td>Photographer Boniface Mwangi wanted to protest...</td>\n",
              "      <td>440</td>\n",
              "      <td>TEDGlobal 2014</td>\n",
              "      <td>1413763200</td>\n",
              "      <td>33</td>\n",
              "      <td>Boniface Mwangi</td>\n",
              "      <td>Boniface Mwangi: The day I stood up alone</td>\n",
              "      <td>1</td>\n",
              "      <td>1427989423</td>\n",
              "      <td>[{'id': 3, 'name': 'Courageous', 'count': 614}...</td>\n",
              "      <td>[{'id': 1757, 'hero': 'https://pe.tedcdn.com/i...</td>\n",
              "      <td>NaN</td>\n",
              "      <td>['TED Fellows', 'activism', 'art', 'corruption...</td>\n",
              "      <td>The day I stood up alone</td>\n",
              "      <td>https://www.ted.com/talks/boniface_mwangi_boni...</td>\n",
              "      <td>1342431</td>\n",
              "    </tr>\n",
              "  </tbody>\n",
              "</table>\n",
              "</div>"
            ],
            "text/plain": [
              "      comments  ...    views\n",
              "1113       145  ...   353749\n",
              "1192       122  ...   181010\n",
              "1220       257  ...  2098639\n",
              "1656       140  ...  1284510\n",
              "1911        48  ...  1159937\n",
              "1949        70  ...  1342431\n",
              "\n",
              "[6 rows x 17 columns]"
            ]
          },
          "metadata": {
            "tags": []
          },
          "execution_count": 8
        }
      ]
    },
    {
      "cell_type": "markdown",
      "metadata": {
        "id": "Zn5E-h3Xzkyb"
      },
      "source": [
        "# 2. Clean"
      ]
    },
    {
      "cell_type": "markdown",
      "metadata": {
        "id": "bOf2Ec-Rzt2d"
      },
      "source": [
        "- **Mode**"
      ]
    },
    {
      "cell_type": "code",
      "metadata": {
        "id": "rVrR-R3hz_3a",
        "outputId": "897d59d9-7c24-4536-f925-bc6bfc41e676",
        "colab": {
          "base_uri": "https://localhost:8080/",
          "height": 52
        }
      },
      "source": [
        "ted.speaker_occupation.mode()"
      ],
      "execution_count": 9,
      "outputs": [
        {
          "output_type": "execute_result",
          "data": {
            "text/plain": [
              "0    Writer\n",
              "dtype: object"
            ]
          },
          "metadata": {
            "tags": []
          },
          "execution_count": 9
        }
      ]
    },
    {
      "cell_type": "code",
      "metadata": {
        "id": "myszE2SFwJ0l"
      },
      "source": [
        "ted['speaker_occupation'] = ted.speaker_occupation.fillna(ted.speaker_occupation.mode()[0])"
      ],
      "execution_count": 10,
      "outputs": []
    },
    {
      "cell_type": "code",
      "metadata": {
        "id": "HjGK2TUE0Kue",
        "outputId": "b050d61e-8b2f-4efb-f11a-4f06d5f03ae2",
        "colab": {
          "base_uri": "https://localhost:8080/",
          "height": 336
        }
      },
      "source": [
        "ted.isna().sum()"
      ],
      "execution_count": 11,
      "outputs": [
        {
          "output_type": "execute_result",
          "data": {
            "text/plain": [
              "comments              0\n",
              "description           0\n",
              "duration              0\n",
              "event                 0\n",
              "film_date             0\n",
              "languages             0\n",
              "main_speaker          0\n",
              "name                  0\n",
              "num_speaker           0\n",
              "published_date        0\n",
              "ratings               0\n",
              "related_talks         0\n",
              "speaker_occupation    0\n",
              "tags                  0\n",
              "title                 0\n",
              "url                   0\n",
              "views                 0\n",
              "dtype: int64"
            ]
          },
          "metadata": {
            "tags": []
          },
          "execution_count": 11
        }
      ]
    },
    {
      "cell_type": "markdown",
      "metadata": {
        "id": "aaV6HDV80SlS"
      },
      "source": [
        "- **Describe**"
      ]
    },
    {
      "cell_type": "code",
      "metadata": {
        "id": "YLGi6bQ30LHP",
        "outputId": "d491cc10-b781-4726-d2d7-c5dfd64a6c1c",
        "colab": {
          "base_uri": "https://localhost:8080/",
          "height": 287
        }
      },
      "source": [
        "ted.describe()"
      ],
      "execution_count": 12,
      "outputs": [
        {
          "output_type": "execute_result",
          "data": {
            "text/html": [
              "<div>\n",
              "<style scoped>\n",
              "    .dataframe tbody tr th:only-of-type {\n",
              "        vertical-align: middle;\n",
              "    }\n",
              "\n",
              "    .dataframe tbody tr th {\n",
              "        vertical-align: top;\n",
              "    }\n",
              "\n",
              "    .dataframe thead th {\n",
              "        text-align: right;\n",
              "    }\n",
              "</style>\n",
              "<table border=\"1\" class=\"dataframe\">\n",
              "  <thead>\n",
              "    <tr style=\"text-align: right;\">\n",
              "      <th></th>\n",
              "      <th>comments</th>\n",
              "      <th>duration</th>\n",
              "      <th>film_date</th>\n",
              "      <th>languages</th>\n",
              "      <th>num_speaker</th>\n",
              "      <th>published_date</th>\n",
              "      <th>views</th>\n",
              "    </tr>\n",
              "  </thead>\n",
              "  <tbody>\n",
              "    <tr>\n",
              "      <th>count</th>\n",
              "      <td>2550.000000</td>\n",
              "      <td>2550.000000</td>\n",
              "      <td>2.550000e+03</td>\n",
              "      <td>2550.000000</td>\n",
              "      <td>2550.000000</td>\n",
              "      <td>2.550000e+03</td>\n",
              "      <td>2.550000e+03</td>\n",
              "    </tr>\n",
              "    <tr>\n",
              "      <th>mean</th>\n",
              "      <td>191.562353</td>\n",
              "      <td>826.510196</td>\n",
              "      <td>1.321928e+09</td>\n",
              "      <td>27.326275</td>\n",
              "      <td>1.028235</td>\n",
              "      <td>1.343525e+09</td>\n",
              "      <td>1.698297e+06</td>\n",
              "    </tr>\n",
              "    <tr>\n",
              "      <th>std</th>\n",
              "      <td>282.315223</td>\n",
              "      <td>374.009138</td>\n",
              "      <td>1.197391e+08</td>\n",
              "      <td>9.563452</td>\n",
              "      <td>0.207705</td>\n",
              "      <td>9.464009e+07</td>\n",
              "      <td>2.498479e+06</td>\n",
              "    </tr>\n",
              "    <tr>\n",
              "      <th>min</th>\n",
              "      <td>2.000000</td>\n",
              "      <td>135.000000</td>\n",
              "      <td>7.464960e+07</td>\n",
              "      <td>0.000000</td>\n",
              "      <td>1.000000</td>\n",
              "      <td>1.151367e+09</td>\n",
              "      <td>5.044300e+04</td>\n",
              "    </tr>\n",
              "    <tr>\n",
              "      <th>25%</th>\n",
              "      <td>63.000000</td>\n",
              "      <td>577.000000</td>\n",
              "      <td>1.257466e+09</td>\n",
              "      <td>23.000000</td>\n",
              "      <td>1.000000</td>\n",
              "      <td>1.268463e+09</td>\n",
              "      <td>7.557928e+05</td>\n",
              "    </tr>\n",
              "    <tr>\n",
              "      <th>50%</th>\n",
              "      <td>118.000000</td>\n",
              "      <td>848.000000</td>\n",
              "      <td>1.333238e+09</td>\n",
              "      <td>28.000000</td>\n",
              "      <td>1.000000</td>\n",
              "      <td>1.340935e+09</td>\n",
              "      <td>1.124524e+06</td>\n",
              "    </tr>\n",
              "    <tr>\n",
              "      <th>75%</th>\n",
              "      <td>221.750000</td>\n",
              "      <td>1046.750000</td>\n",
              "      <td>1.412964e+09</td>\n",
              "      <td>33.000000</td>\n",
              "      <td>1.000000</td>\n",
              "      <td>1.423432e+09</td>\n",
              "      <td>1.700760e+06</td>\n",
              "    </tr>\n",
              "    <tr>\n",
              "      <th>max</th>\n",
              "      <td>6404.000000</td>\n",
              "      <td>5256.000000</td>\n",
              "      <td>1.503792e+09</td>\n",
              "      <td>72.000000</td>\n",
              "      <td>5.000000</td>\n",
              "      <td>1.506092e+09</td>\n",
              "      <td>4.722711e+07</td>\n",
              "    </tr>\n",
              "  </tbody>\n",
              "</table>\n",
              "</div>"
            ],
            "text/plain": [
              "          comments     duration  ...  published_date         views\n",
              "count  2550.000000  2550.000000  ...    2.550000e+03  2.550000e+03\n",
              "mean    191.562353   826.510196  ...    1.343525e+09  1.698297e+06\n",
              "std     282.315223   374.009138  ...    9.464009e+07  2.498479e+06\n",
              "min       2.000000   135.000000  ...    1.151367e+09  5.044300e+04\n",
              "25%      63.000000   577.000000  ...    1.268463e+09  7.557928e+05\n",
              "50%     118.000000   848.000000  ...    1.340935e+09  1.124524e+06\n",
              "75%     221.750000  1046.750000  ...    1.423432e+09  1.700760e+06\n",
              "max    6404.000000  5256.000000  ...    1.506092e+09  4.722711e+07\n",
              "\n",
              "[8 rows x 7 columns]"
            ]
          },
          "metadata": {
            "tags": []
          },
          "execution_count": 12
        }
      ]
    },
    {
      "cell_type": "markdown",
      "metadata": {
        "id": "eyWR0OkU0ZIo"
      },
      "source": [
        "# 3. Analysis"
      ]
    },
    {
      "cell_type": "code",
      "metadata": {
        "id": "NL7j9UUIbki3",
        "outputId": "a8f7d3f2-2164-4b12-83a9-4a69fb275842",
        "colab": {
          "base_uri": "https://localhost:8080/",
          "height": 374
        }
      },
      "source": [
        "ted.head(3)"
      ],
      "execution_count": 13,
      "outputs": [
        {
          "output_type": "execute_result",
          "data": {
            "text/html": [
              "<div>\n",
              "<style scoped>\n",
              "    .dataframe tbody tr th:only-of-type {\n",
              "        vertical-align: middle;\n",
              "    }\n",
              "\n",
              "    .dataframe tbody tr th {\n",
              "        vertical-align: top;\n",
              "    }\n",
              "\n",
              "    .dataframe thead th {\n",
              "        text-align: right;\n",
              "    }\n",
              "</style>\n",
              "<table border=\"1\" class=\"dataframe\">\n",
              "  <thead>\n",
              "    <tr style=\"text-align: right;\">\n",
              "      <th></th>\n",
              "      <th>comments</th>\n",
              "      <th>description</th>\n",
              "      <th>duration</th>\n",
              "      <th>event</th>\n",
              "      <th>film_date</th>\n",
              "      <th>languages</th>\n",
              "      <th>main_speaker</th>\n",
              "      <th>name</th>\n",
              "      <th>num_speaker</th>\n",
              "      <th>published_date</th>\n",
              "      <th>ratings</th>\n",
              "      <th>related_talks</th>\n",
              "      <th>speaker_occupation</th>\n",
              "      <th>tags</th>\n",
              "      <th>title</th>\n",
              "      <th>url</th>\n",
              "      <th>views</th>\n",
              "    </tr>\n",
              "  </thead>\n",
              "  <tbody>\n",
              "    <tr>\n",
              "      <th>0</th>\n",
              "      <td>4553</td>\n",
              "      <td>Sir Ken Robinson makes an entertaining and pro...</td>\n",
              "      <td>1164</td>\n",
              "      <td>TED2006</td>\n",
              "      <td>1140825600</td>\n",
              "      <td>60</td>\n",
              "      <td>Ken Robinson</td>\n",
              "      <td>Ken Robinson: Do schools kill creativity?</td>\n",
              "      <td>1</td>\n",
              "      <td>1151367060</td>\n",
              "      <td>[{'id': 7, 'name': 'Funny', 'count': 19645}, {...</td>\n",
              "      <td>[{'id': 865, 'hero': 'https://pe.tedcdn.com/im...</td>\n",
              "      <td>Author/educator</td>\n",
              "      <td>['children', 'creativity', 'culture', 'dance',...</td>\n",
              "      <td>Do schools kill creativity?</td>\n",
              "      <td>https://www.ted.com/talks/ken_robinson_says_sc...</td>\n",
              "      <td>47227110</td>\n",
              "    </tr>\n",
              "    <tr>\n",
              "      <th>1</th>\n",
              "      <td>265</td>\n",
              "      <td>With the same humor and humanity he exuded in ...</td>\n",
              "      <td>977</td>\n",
              "      <td>TED2006</td>\n",
              "      <td>1140825600</td>\n",
              "      <td>43</td>\n",
              "      <td>Al Gore</td>\n",
              "      <td>Al Gore: Averting the climate crisis</td>\n",
              "      <td>1</td>\n",
              "      <td>1151367060</td>\n",
              "      <td>[{'id': 7, 'name': 'Funny', 'count': 544}, {'i...</td>\n",
              "      <td>[{'id': 243, 'hero': 'https://pe.tedcdn.com/im...</td>\n",
              "      <td>Climate advocate</td>\n",
              "      <td>['alternative energy', 'cars', 'climate change...</td>\n",
              "      <td>Averting the climate crisis</td>\n",
              "      <td>https://www.ted.com/talks/al_gore_on_averting_...</td>\n",
              "      <td>3200520</td>\n",
              "    </tr>\n",
              "    <tr>\n",
              "      <th>2</th>\n",
              "      <td>124</td>\n",
              "      <td>New York Times columnist David Pogue takes aim...</td>\n",
              "      <td>1286</td>\n",
              "      <td>TED2006</td>\n",
              "      <td>1140739200</td>\n",
              "      <td>26</td>\n",
              "      <td>David Pogue</td>\n",
              "      <td>David Pogue: Simplicity sells</td>\n",
              "      <td>1</td>\n",
              "      <td>1151367060</td>\n",
              "      <td>[{'id': 7, 'name': 'Funny', 'count': 964}, {'i...</td>\n",
              "      <td>[{'id': 1725, 'hero': 'https://pe.tedcdn.com/i...</td>\n",
              "      <td>Technology columnist</td>\n",
              "      <td>['computers', 'entertainment', 'interface desi...</td>\n",
              "      <td>Simplicity sells</td>\n",
              "      <td>https://www.ted.com/talks/david_pogue_says_sim...</td>\n",
              "      <td>1636292</td>\n",
              "    </tr>\n",
              "  </tbody>\n",
              "</table>\n",
              "</div>"
            ],
            "text/plain": [
              "   comments  ...     views\n",
              "0      4553  ...  47227110\n",
              "1       265  ...   3200520\n",
              "2       124  ...   1636292\n",
              "\n",
              "[3 rows x 17 columns]"
            ]
          },
          "metadata": {
            "tags": []
          },
          "execution_count": 13
        }
      ]
    },
    {
      "cell_type": "markdown",
      "metadata": {
        "id": "o7pmne8obXT2"
      },
      "source": [
        "`comments`, `views`\n",
        "- Top Talks : `comments`, `views`\n",
        "- Top Events : `views`, `event.value_counts()`\n",
        "- Top Languages : `languages.value_counts()`\n",
        "- Top Occupation : `speaker_occupation`\n",
        "- Top Topic : `tags`\n",
        "- Top Ratings : `ratings`\n"
      ]
    },
    {
      "cell_type": "markdown",
      "metadata": {
        "id": "7Q5xXKUK5yiq"
      },
      "source": [
        "_So, views correlates well with languages & comments_"
      ]
    },
    {
      "cell_type": "markdown",
      "metadata": {
        "id": "jjoAuNQw7JC-"
      },
      "source": [
        "- **Year**"
      ]
    },
    {
      "cell_type": "code",
      "metadata": {
        "id": "BorRoxWU5uv0",
        "outputId": "cb9fed09-bacc-4586-f9e7-1edf4338c9ec",
        "colab": {
          "base_uri": "https://localhost:8080/",
          "height": 123
        }
      },
      "source": [
        "ted.film_date.head()"
      ],
      "execution_count": 14,
      "outputs": [
        {
          "output_type": "execute_result",
          "data": {
            "text/plain": [
              "0    1140825600\n",
              "1    1140825600\n",
              "2    1140739200\n",
              "3    1140912000\n",
              "4    1140566400\n",
              "Name: film_date, dtype: int64"
            ]
          },
          "metadata": {
            "tags": []
          },
          "execution_count": 14
        }
      ]
    },
    {
      "cell_type": "code",
      "metadata": {
        "id": "TMz5dOtU7Pt9",
        "outputId": "4a974081-2c15-4b77-eb27-d1461f572924",
        "colab": {
          "base_uri": "https://localhost:8080/",
          "height": 123
        }
      },
      "source": [
        "pd.to_datetime(ted.film_date).head()"
      ],
      "execution_count": 15,
      "outputs": [
        {
          "output_type": "execute_result",
          "data": {
            "text/plain": [
              "0   1970-01-01 00:00:01.140825600\n",
              "1   1970-01-01 00:00:01.140825600\n",
              "2   1970-01-01 00:00:01.140739200\n",
              "3   1970-01-01 00:00:01.140912000\n",
              "4   1970-01-01 00:00:01.140566400\n",
              "Name: film_date, dtype: datetime64[ns]"
            ]
          },
          "metadata": {
            "tags": []
          },
          "execution_count": 15
        }
      ]
    },
    {
      "cell_type": "code",
      "metadata": {
        "id": "jo8GZeWM7Rio",
        "outputId": "3ad9731b-1078-4576-8ad8-8af8776af32a",
        "colab": {
          "base_uri": "https://localhost:8080/",
          "height": 123
        }
      },
      "source": [
        "pd.to_datetime(ted.film_date, unit='s').head()"
      ],
      "execution_count": 16,
      "outputs": [
        {
          "output_type": "execute_result",
          "data": {
            "text/plain": [
              "0   2006-02-25\n",
              "1   2006-02-25\n",
              "2   2006-02-24\n",
              "3   2006-02-26\n",
              "4   2006-02-22\n",
              "Name: film_date, dtype: datetime64[ns]"
            ]
          },
          "metadata": {
            "tags": []
          },
          "execution_count": 16
        }
      ]
    },
    {
      "cell_type": "code",
      "metadata": {
        "id": "eWgsnURM7U2N",
        "outputId": "6a47f145-f803-483f-87c7-68894e1f7c19",
        "colab": {
          "base_uri": "https://localhost:8080/",
          "height": 197
        }
      },
      "source": [
        "ted['film_datetime'] = pd.to_datetime(ted.film_date, unit='s')\n",
        "ted['published_datetime'] = pd.to_datetime(ted.published_date, unit='s')\n",
        "ted[['event', 'film_datetime', 'published_datetime']].sample(5)"
      ],
      "execution_count": 17,
      "outputs": [
        {
          "output_type": "execute_result",
          "data": {
            "text/html": [
              "<div>\n",
              "<style scoped>\n",
              "    .dataframe tbody tr th:only-of-type {\n",
              "        vertical-align: middle;\n",
              "    }\n",
              "\n",
              "    .dataframe tbody tr th {\n",
              "        vertical-align: top;\n",
              "    }\n",
              "\n",
              "    .dataframe thead th {\n",
              "        text-align: right;\n",
              "    }\n",
              "</style>\n",
              "<table border=\"1\" class=\"dataframe\">\n",
              "  <thead>\n",
              "    <tr style=\"text-align: right;\">\n",
              "      <th></th>\n",
              "      <th>event</th>\n",
              "      <th>film_datetime</th>\n",
              "      <th>published_datetime</th>\n",
              "    </tr>\n",
              "  </thead>\n",
              "  <tbody>\n",
              "    <tr>\n",
              "      <th>315</th>\n",
              "      <td>TED2008</td>\n",
              "      <td>2008-02-02</td>\n",
              "      <td>2008-10-21 01:00:00</td>\n",
              "    </tr>\n",
              "    <tr>\n",
              "      <th>2283</th>\n",
              "      <td>TEDNYC</td>\n",
              "      <td>2016-09-07</td>\n",
              "      <td>2016-09-19 15:03:54</td>\n",
              "    </tr>\n",
              "    <tr>\n",
              "      <th>1292</th>\n",
              "      <td>TEDGlobal 2012</td>\n",
              "      <td>2012-06-27</td>\n",
              "      <td>2012-07-20 15:00:38</td>\n",
              "    </tr>\n",
              "    <tr>\n",
              "      <th>770</th>\n",
              "      <td>TEDGlobal 2010</td>\n",
              "      <td>2010-07-09</td>\n",
              "      <td>2010-09-20 08:43:00</td>\n",
              "    </tr>\n",
              "    <tr>\n",
              "      <th>592</th>\n",
              "      <td>TEDIndia 2009</td>\n",
              "      <td>2009-11-06</td>\n",
              "      <td>2010-01-12 08:47:00</td>\n",
              "    </tr>\n",
              "  </tbody>\n",
              "</table>\n",
              "</div>"
            ],
            "text/plain": [
              "               event film_datetime  published_datetime\n",
              "315          TED2008    2008-02-02 2008-10-21 01:00:00\n",
              "2283          TEDNYC    2016-09-07 2016-09-19 15:03:54\n",
              "1292  TEDGlobal 2012    2012-06-27 2012-07-20 15:00:38\n",
              "770   TEDGlobal 2010    2010-07-09 2010-09-20 08:43:00\n",
              "592    TEDIndia 2009    2009-11-06 2010-01-12 08:47:00"
            ]
          },
          "metadata": {
            "tags": []
          },
          "execution_count": 17
        }
      ]
    },
    {
      "cell_type": "code",
      "metadata": {
        "id": "xhsDuVO77pBJ",
        "outputId": "34209d65-44b6-41e0-8ca2-dd28ca467877",
        "colab": {
          "base_uri": "https://localhost:8080/",
          "height": 123
        }
      },
      "source": [
        "ted.film_datetime.dt.year.head()"
      ],
      "execution_count": 18,
      "outputs": [
        {
          "output_type": "execute_result",
          "data": {
            "text/plain": [
              "0    2006\n",
              "1    2006\n",
              "2    2006\n",
              "3    2006\n",
              "4    2006\n",
              "Name: film_datetime, dtype: int64"
            ]
          },
          "metadata": {
            "tags": []
          },
          "execution_count": 18
        }
      ]
    },
    {
      "cell_type": "code",
      "metadata": {
        "id": "OIDPx-Ft9RC-",
        "outputId": "1feb3d54-5520-4769-b8cf-83f6d6e76352",
        "colab": {
          "base_uri": "https://localhost:8080/",
          "height": 610
        }
      },
      "source": [
        "plt.figure(figsize=(12, 10))\n",
        "ted.film_datetime.dt.year.value_counts().sort_index().plot(c='black', linewidth=3, marker='o')"
      ],
      "execution_count": 19,
      "outputs": [
        {
          "output_type": "execute_result",
          "data": {
            "text/plain": [
              "<matplotlib.axes._subplots.AxesSubplot at 0x7f9222b6cb38>"
            ]
          },
          "metadata": {
            "tags": []
          },
          "execution_count": 19
        },
        {
          "output_type": "display_data",
          "data": {
            "image/png": "[encoded data removed]",
            "text/plain": [
              "<Figure size 864x720 with 1 Axes>"
            ]
          },
          "metadata": {
            "tags": [],
            "needs_background": "light"
          }
        }
      ]
    },
    {
      "cell_type": "code",
      "metadata": {
        "id": "eB5V37K69WZ0",
        "outputId": "5d9c6435-abc1-4175-8290-c88bc793ea7d",
        "colab": {
          "base_uri": "https://localhost:8080/",
          "height": 34
        }
      },
      "source": [
        "ted.film_datetime.max()"
      ],
      "execution_count": 20,
      "outputs": [
        {
          "output_type": "execute_result",
          "data": {
            "text/plain": [
              "Timestamp('2017-08-27 00:00:00')"
            ]
          },
          "metadata": {
            "tags": []
          },
          "execution_count": 20
        }
      ]
    },
    {
      "cell_type": "markdown",
      "metadata": {
        "id": "58GVLH1BAPRB"
      },
      "source": [
        "- **Events**"
      ]
    },
    {
      "cell_type": "code",
      "metadata": {
        "id": "sCYqIT059rVY",
        "outputId": "f15418e6-2fcb-4461-9b89-4ff3b6948ac0",
        "colab": {
          "base_uri": "https://localhost:8080/",
          "height": 123
        }
      },
      "source": [
        "ted.event.value_counts().head()"
      ],
      "execution_count": 21,
      "outputs": [
        {
          "output_type": "execute_result",
          "data": {
            "text/plain": [
              "TED2014    84\n",
              "TED2009    83\n",
              "TED2016    77\n",
              "TED2013    77\n",
              "TED2015    75\n",
              "Name: event, dtype: int64"
            ]
          },
          "metadata": {
            "tags": []
          },
          "execution_count": 21
        }
      ]
    },
    {
      "cell_type": "code",
      "metadata": {
        "id": "rhBLalO2AbRs",
        "outputId": "e12e85f7-423c-4509-f29c-640b138fd479",
        "colab": {
          "base_uri": "https://localhost:8080/",
          "height": 247
        }
      },
      "source": [
        "ted.groupby('event').views.mean()"
      ],
      "execution_count": 22,
      "outputs": [
        {
          "output_type": "execute_result",
          "data": {
            "text/plain": [
              "event\n",
              "AORN Congress                   149818.0\n",
              "Arbejdsglaede Live              971594.0\n",
              "BBC TV                          521974.0\n",
              "Bowery Poetry Club              676741.0\n",
              "Business Innovation Factory     304086.0\n",
              "                                 ...    \n",
              "The Do Lectures                 112321.0\n",
              "Toronto Youth Corps            1028630.0\n",
              "University of California        261831.5\n",
              "Web 2.0 Expo 2008               757791.0\n",
              "World Science Festival         3302312.0\n",
              "Name: views, Length: 355, dtype: float64"
            ]
          },
          "metadata": {
            "tags": []
          },
          "execution_count": 22
        }
      ]
    },
    {
      "cell_type": "code",
      "metadata": {
        "id": "JvjNfAtfArQI",
        "outputId": "386a05d7-383a-47ba-90a0-a5f1edbcf0d4",
        "colab": {
          "base_uri": "https://localhost:8080/",
          "height": 141
        }
      },
      "source": [
        "ted.groupby('event').views.mean().sort_values().tail()"
      ],
      "execution_count": 23,
      "outputs": [
        {
          "output_type": "execute_result",
          "data": {
            "text/plain": [
              "event\n",
              "TEDxNorrkoping        6569493.0\n",
              "TEDxCreativeCoast     8444981.0\n",
              "TEDxBloomington       9484259.5\n",
              "TEDxHouston          16140250.5\n",
              "TEDxPuget Sound      34309432.0\n",
              "Name: views, dtype: float64"
            ]
          },
          "metadata": {
            "tags": []
          },
          "execution_count": 23
        }
      ]
    },
    {
      "cell_type": "code",
      "metadata": {
        "id": "k_2QQqBmAyV_",
        "outputId": "6d8b659d-7e63-428d-eef6-d4aa3aa83d94",
        "colab": {
          "base_uri": "https://localhost:8080/",
          "height": 227
        }
      },
      "source": [
        "ted.groupby('event').views.agg(['count', 'mean', 'sum']).sort_values('sum').tail()"
      ],
      "execution_count": 24,
      "outputs": [
        {
          "output_type": "execute_result",
          "data": {
            "text/html": [
              "<div>\n",
              "<style scoped>\n",
              "    .dataframe tbody tr th:only-of-type {\n",
              "        vertical-align: middle;\n",
              "    }\n",
              "\n",
              "    .dataframe tbody tr th {\n",
              "        vertical-align: top;\n",
              "    }\n",
              "\n",
              "    .dataframe thead th {\n",
              "        text-align: right;\n",
              "    }\n",
              "</style>\n",
              "<table border=\"1\" class=\"dataframe\">\n",
              "  <thead>\n",
              "    <tr style=\"text-align: right;\">\n",
              "      <th></th>\n",
              "      <th>count</th>\n",
              "      <th>mean</th>\n",
              "      <th>sum</th>\n",
              "    </tr>\n",
              "    <tr>\n",
              "      <th>event</th>\n",
              "      <th></th>\n",
              "      <th></th>\n",
              "      <th></th>\n",
              "    </tr>\n",
              "  </thead>\n",
              "  <tbody>\n",
              "    <tr>\n",
              "      <th>TED2006</th>\n",
              "      <td>45</td>\n",
              "      <td>3.274345e+06</td>\n",
              "      <td>147345533</td>\n",
              "    </tr>\n",
              "    <tr>\n",
              "      <th>TED2015</th>\n",
              "      <td>75</td>\n",
              "      <td>2.011017e+06</td>\n",
              "      <td>150826305</td>\n",
              "    </tr>\n",
              "    <tr>\n",
              "      <th>TEDGlobal 2013</th>\n",
              "      <td>66</td>\n",
              "      <td>2.584163e+06</td>\n",
              "      <td>170554736</td>\n",
              "    </tr>\n",
              "    <tr>\n",
              "      <th>TED2014</th>\n",
              "      <td>84</td>\n",
              "      <td>2.072874e+06</td>\n",
              "      <td>174121423</td>\n",
              "    </tr>\n",
              "    <tr>\n",
              "      <th>TED2013</th>\n",
              "      <td>77</td>\n",
              "      <td>2.302700e+06</td>\n",
              "      <td>177307937</td>\n",
              "    </tr>\n",
              "  </tbody>\n",
              "</table>\n",
              "</div>"
            ],
            "text/plain": [
              "                count          mean        sum\n",
              "event                                         \n",
              "TED2006            45  3.274345e+06  147345533\n",
              "TED2015            75  2.011017e+06  150826305\n",
              "TEDGlobal 2013     66  2.584163e+06  170554736\n",
              "TED2014            84  2.072874e+06  174121423\n",
              "TED2013            77  2.302700e+06  177307937"
            ]
          },
          "metadata": {
            "tags": []
          },
          "execution_count": 24
        }
      ]
    },
    {
      "cell_type": "code",
      "metadata": {
        "id": "ySwCK_CTBETS",
        "outputId": "99788df1-c7f1-4d08-a22e-d1da925220dc",
        "colab": {
          "base_uri": "https://localhost:8080/",
          "height": 475
        }
      },
      "source": [
        "plt.figure(figsize=(15, 15))\n",
        "\n",
        "plt.subplot(3, 3, 1)\n",
        "plt.title('Number of event')\n",
        "ted.event.value_counts()[:10].plot(kind='bar')\n",
        "\n",
        "plt.subplot(3, 3, 2)\n",
        "plt.title('Views per event')\n",
        "# plt.xticks(rotation=20)\n",
        "ted.groupby('event').views.mean().sort_values(ascending=False)[:10].plot(kind=\"bar\")\n",
        "\n",
        "plt.subplot(3, 3, 3)\n",
        "plt.title('Cmt per event')\n",
        "# plt.xticks(rotation=20)\n",
        "ted.groupby('event').comments.mean().sort_values(ascending=False)[:10].plot(kind=\"bar\")"
      ],
      "execution_count": 25,
      "outputs": [
        {
          "output_type": "execute_result",
          "data": {
            "text/plain": [
              "<matplotlib.axes._subplots.AxesSubplot at 0x7f9221a652b0>"
            ]
          },
          "metadata": {
            "tags": []
          },
          "execution_count": 25
        },
        {
          "output_type": "display_data",
          "data": {
            "image/png": "[encoded data removed]",
            "text/plain": [
              "<Figure size 1080x1080 with 3 Axes>"
            ]
          },
          "metadata": {
            "tags": [],
            "needs_background": "light"
          }
        }
      ]
    },
    {
      "cell_type": "markdown",
      "metadata": {
        "id": "i2zrUjcjahwz"
      },
      "source": [
        "# 4. Deeply"
      ]
    },
    {
      "cell_type": "markdown",
      "metadata": {
        "id": "Pub7t2Paf4ik"
      },
      "source": [
        "- Correlation \n",
        "- Predict "
      ]
    },
    {
      "cell_type": "markdown",
      "metadata": {
        "id": "KsMcM16z5jFl"
      },
      "source": [
        "- **Correlation**"
      ]
    },
    {
      "cell_type": "code",
      "metadata": {
        "id": "6GXgl8qr0WWB",
        "outputId": "3e1e5569-273a-408e-dcb3-a504abbb9668",
        "colab": {
          "base_uri": "https://localhost:8080/",
          "height": 621
        }
      },
      "source": [
        "ted.hist(edgecolor=\"black\", linewidth=1, figsize=(12, 10));"
      ],
      "execution_count": 26,
      "outputs": [
        {
          "output_type": "display_data",
          "data": {
            "image/png": "[encoded data removed]",
            "text/plain": [
              "<Figure size 864x720 with 9 Axes>"
            ]
          },
          "metadata": {
            "tags": [],
            "needs_background": "light"
          }
        }
      ]
    },
    {
      "cell_type": "code",
      "metadata": {
        "id": "yYWCY7uHSLkI",
        "outputId": "b3ff35c6-ebd1-4c6c-d70a-816f96495b90",
        "colab": {
          "base_uri": "https://localhost:8080/",
          "height": 505
        }
      },
      "source": [
        "plt.figure(figsize=(12, 8))\n",
        "sns.heatmap(ted.corr(), annot=True, cmap='YlGnBu')"
      ],
      "execution_count": 27,
      "outputs": [
        {
          "output_type": "execute_result",
          "data": {
            "text/plain": [
              "<matplotlib.axes._subplots.AxesSubplot at 0x7f92218cfa58>"
            ]
          },
          "metadata": {
            "tags": []
          },
          "execution_count": 27
        },
        {
          "output_type": "display_data",
          "data": {
            "image/png": "[encoded data removed]",
            "text/plain": [
              "<Figure size 864x576 with 2 Axes>"
            ]
          },
          "metadata": {
            "tags": [],
            "needs_background": "light"
          }
        }
      ]
    }
  ]
}